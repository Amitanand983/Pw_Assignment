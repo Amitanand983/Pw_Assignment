{
 "cells": [
  {
   "cell_type": "code",
   "execution_count": 5,
   "id": "846b9d59-f0ac-471a-af75-193f59152632",
   "metadata": {},
   "outputs": [],
   "source": [
    "import pandas as pd"
   ]
  },
  {
   "cell_type": "code",
   "execution_count": 8,
   "id": "3bf6d662-8d5f-43fe-b817-4684c45beb7a",
   "metadata": {},
   "outputs": [
    {
     "name": "stdout",
     "output_type": "stream",
     "text": [
      "Requirement already satisfied: pandas in /opt/conda/lib/python3.10/site-packages (1.5.2)\n",
      "Requirement already satisfied: python-dateutil>=2.8.1 in /opt/conda/lib/python3.10/site-packages (from pandas) (2.8.2)\n",
      "Requirement already satisfied: pytz>=2020.1 in /opt/conda/lib/python3.10/site-packages (from pandas) (2022.6)\n",
      "Requirement already satisfied: numpy>=1.21.0 in /opt/conda/lib/python3.10/site-packages (from pandas) (1.23.5)\n",
      "Requirement already satisfied: six>=1.5 in /opt/conda/lib/python3.10/site-packages (from python-dateutil>=2.8.1->pandas) (1.16.0)\n",
      "Note: you may need to restart the kernel to use updated packages.\n"
     ]
    }
   ],
   "source": [
    "pip install pandas"
   ]
  },
  {
   "cell_type": "code",
   "execution_count": 7,
   "id": "51908021-0c70-4ce3-8451-1a633fe5613d",
   "metadata": {},
   "outputs": [
    {
     "name": "stdout",
     "output_type": "stream",
     "text": [
      "0     4\n",
      "1     8\n",
      "2    15\n",
      "3    16\n",
      "4    23\n",
      "5    42\n",
      "dtype: int64\n"
     ]
    }
   ],
   "source": [
    "data = [4, 8, 15, 16, 23, 42]\n",
    "series = pd.Series(data)\n",
    "print(series)"
   ]
  },
  {
   "cell_type": "code",
   "execution_count": 8,
   "id": "6a84fafd-8e4f-4a07-a114-82e5ea85c259",
   "metadata": {},
   "outputs": [
    {
     "name": "stdout",
     "output_type": "stream",
     "text": [
      "0     1\n",
      "1     2\n",
      "2     3\n",
      "3     4\n",
      "4     5\n",
      "5     6\n",
      "6     7\n",
      "7     8\n",
      "8     9\n",
      "9    10\n",
      "dtype: int64\n"
     ]
    }
   ],
   "source": [
    "my_list = [1, 2, 3, 4, 5, 6, 7, 8, 9, 10]\n",
    "my_series = pd.Series(my_list)\n",
    "\n",
    "print(my_series)"
   ]
  },
  {
   "cell_type": "code",
   "execution_count": 14,
   "id": "a931c5be-6dcc-4d7f-ac2d-72e2225a118e",
   "metadata": {},
   "outputs": [
    {
     "name": "stdout",
     "output_type": "stream",
     "text": [
      "     name Age  gender\n",
      "0   Alice  25  Female\n",
      "1     Bob  30    Male\n",
      "2  Claire  27  Female\n"
     ]
    }
   ],
   "source": [
    "data = [{\"name\" : \"Alice\", \"Age\" : \"25\",\"gender\" : \"Female\"},\n",
    "       {\"name\" : \"Bob\", \"Age\" : \"30\",\"gender\" : \"Male\"},\n",
    "       {\"name\" : \"Claire\", \"Age\" : \"27\",\"gender\" : \"Female\"}]\n",
    "df = pd.DataFrame(data)\n",
    "print(df)"
   ]
  },
  {
   "cell_type": "markdown",
   "id": "fbb96023-c8f5-4e7f-95d0-55d4ede84e6c",
   "metadata": {},
   "source": [
    "In Pandas, a DataFrame is a 2-dimensional labeled data structure with columns that can be of different types (similar to a spreadsheet or a SQL table). It is one of the core data structures provided by the Pandas library for data manipulation and analysis. A DataFrame can be thought of as a collection of Series, where each Series represents a column of the DataFrame.\n",
    "\n",
    "On the other hand, a Series is a 1-dimensional labeled array, similar to a column in a table or a single-dimensional array. It can store data of any type and is often used to represent a single column or a single row of data."
   ]
  },
  {
   "cell_type": "code",
   "execution_count": 16,
   "id": "adffead9-6913-4297-8f4e-4e808684165c",
   "metadata": {},
   "outputs": [],
   "source": [
    "#some common functions along with examples of their usage:\n",
    "#1.head() and tail(): These functions allow you to view the first few or last few rows of the DataFrame.\n",
    "#2.describe(): Provides summary statistics of numerical columns in the DataFrame.\n",
    "#3.sort_values(): Sorts the DataFrame based on one or more columns.\n",
    "#4.fillna(): Fills missing values with a specified value or method.\n",
    "#5.drop(): Removes specified columns or rows from the DataFrame.\n",
    "#6.merge(): Combines multiple DataFrames based on a common column."
   ]
  },
  {
   "cell_type": "code",
   "execution_count": 15,
   "id": "2af45c23-0bdf-43fa-bf3f-b382bd90f8f2",
   "metadata": {},
   "outputs": [
    {
     "name": "stdout",
     "output_type": "stream",
     "text": [
      "    Name  Age Class\n",
      "0  Alice   25     A\n",
      "1    Bob   30     B\n",
      "      Name  Age Class\n",
      "2  Charlie   22     C\n"
     ]
    }
   ],
   "source": [
    "data = {'Name': ['Alice', 'Bob', 'Charlie'],\n",
    "        'Age': [25, 30, 22],\n",
    "        'Class': ['A', 'B', 'C']}\n",
    "\n",
    "df = pd.DataFrame(data)\n",
    "\n",
    "print(df.head(2))  # Display the first 2 rows\n",
    "print(df.tail(1))  # Display the last 1 row"
   ]
  },
  {
   "cell_type": "code",
   "execution_count": 17,
   "id": "bb2f8025-4aed-4708-be88-2565a27348a4",
   "metadata": {},
   "outputs": [
    {
     "name": "stdout",
     "output_type": "stream",
     "text": [
      "             Age\n",
      "count   3.000000\n",
      "mean   25.666667\n",
      "std     4.041452\n",
      "min    22.000000\n",
      "25%    23.500000\n",
      "50%    25.000000\n",
      "75%    27.500000\n",
      "max    30.000000\n"
     ]
    }
   ],
   "source": [
    "print(df.describe())  # Summary statistics of numerical columns"
   ]
  },
  {
   "cell_type": "code",
   "execution_count": 18,
   "id": "029c5974-9671-4f9c-894f-dcc99afd6dd0",
   "metadata": {},
   "outputs": [
    {
     "name": "stdout",
     "output_type": "stream",
     "text": [
      "      Name  Age Class\n",
      "2  Charlie   22     C\n",
      "0    Alice   25     A\n",
      "1      Bob   30     B\n"
     ]
    }
   ],
   "source": [
    "sorted_df = df.sort_values(by='Age')  # Sort by 'Age' column\n",
    "print(sorted_df)"
   ]
  },
  {
   "cell_type": "code",
   "execution_count": 19,
   "id": "a474cd05-d7c2-474e-bd67-d317bd263c66",
   "metadata": {},
   "outputs": [],
   "source": [
    "#series and Dataframe are mutable in nature while panel is not"
   ]
  },
  {
   "cell_type": "code",
   "execution_count": 22,
   "id": "9ae4a200-0e42-4023-be0e-200cfbbad443",
   "metadata": {},
   "outputs": [],
   "source": [
    "name = pd.Series([\"Amit\",\"Aman\",\"Ajay\"])\n",
    "Age  = pd.Series([20,21,20])\n",
    "Gender = pd.Series([\"Male\",\"Male\",\"Male\"])"
   ]
  },
  {
   "cell_type": "code",
   "execution_count": 27,
   "id": "095554a2-3c1e-4179-b738-83be471b9124",
   "metadata": {},
   "outputs": [
    {
     "data": {
      "text/html": [
       "<div>\n",
       "<style scoped>\n",
       "    .dataframe tbody tr th:only-of-type {\n",
       "        vertical-align: middle;\n",
       "    }\n",
       "\n",
       "    .dataframe tbody tr th {\n",
       "        vertical-align: top;\n",
       "    }\n",
       "\n",
       "    .dataframe thead th {\n",
       "        text-align: right;\n",
       "    }\n",
       "</style>\n",
       "<table border=\"1\" class=\"dataframe\">\n",
       "  <thead>\n",
       "    <tr style=\"text-align: right;\">\n",
       "      <th></th>\n",
       "      <th>Name</th>\n",
       "      <th>age</th>\n",
       "      <th>gender</th>\n",
       "    </tr>\n",
       "  </thead>\n",
       "  <tbody>\n",
       "    <tr>\n",
       "      <th>0</th>\n",
       "      <td>Amit</td>\n",
       "      <td>20</td>\n",
       "      <td>Male</td>\n",
       "    </tr>\n",
       "    <tr>\n",
       "      <th>1</th>\n",
       "      <td>Aman</td>\n",
       "      <td>21</td>\n",
       "      <td>Male</td>\n",
       "    </tr>\n",
       "    <tr>\n",
       "      <th>2</th>\n",
       "      <td>Ajay</td>\n",
       "      <td>20</td>\n",
       "      <td>Male</td>\n",
       "    </tr>\n",
       "  </tbody>\n",
       "</table>\n",
       "</div>"
      ],
      "text/plain": [
       "   Name  age gender\n",
       "0  Amit   20   Male\n",
       "1  Aman   21   Male\n",
       "2  Ajay   20   Male"
      ]
     },
     "execution_count": 27,
     "metadata": {},
     "output_type": "execute_result"
    }
   ],
   "source": [
    "# Create a DataFrame using the Series\n",
    "data = {\"Name\" : name,\n",
    "       \"age\" : Age,\n",
    "       \"gender\": Gender}\n",
    "df = pd.DataFrame(data)\n",
    "df"
   ]
  },
  {
   "cell_type": "code",
   "execution_count": null,
   "id": "8a7fdd01-6f75-4dfc-be30-ff77cf1c3d9a",
   "metadata": {},
   "outputs": [],
   "source": []
  }
 ],
 "metadata": {
  "kernelspec": {
   "display_name": "Python 3 (ipykernel)",
   "language": "python",
   "name": "python3"
  },
  "language_info": {
   "codemirror_mode": {
    "name": "ipython",
    "version": 3
   },
   "file_extension": ".py",
   "mimetype": "text/x-python",
   "name": "python",
   "nbconvert_exporter": "python",
   "pygments_lexer": "ipython3",
   "version": "3.10.8"
  }
 },
 "nbformat": 4,
 "nbformat_minor": 5
}
